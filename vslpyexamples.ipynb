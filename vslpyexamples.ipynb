{
 "cells": [
  {
   "cell_type": "markdown",
   "id": "2ae3a898-b800-4a0b-a07d-13ad290239ff",
   "metadata": {},
   "source": [
    "# vslexamples"
   ]
  },
  {
   "cell_type": "code",
   "execution_count": 1,
   "id": "e33cf351-d023-4b58-b905-5a755815da71",
   "metadata": {},
   "outputs": [
    {
     "data": {
      "text/plain": [
       "'Frank Hubeny'"
      ]
     },
     "execution_count": 1,
     "metadata": {},
     "output_type": "execute_result"
    }
   ],
   "source": [
    "import vslpy\n",
    "vslpy.__citation__"
   ]
  },
  {
   "cell_type": "code",
   "execution_count": 2,
   "id": "98bf575b-b2c0-4b08-a563-522dfb05b2f3",
   "metadata": {},
   "outputs": [
    {
     "data": {
      "text/plain": [
       "'v0.0.1-beta'"
      ]
     },
     "execution_count": 2,
     "metadata": {},
     "output_type": "execute_result"
    }
   ],
   "source": [
    "vslpy.__version__"
   ]
  },
  {
   "cell_type": "code",
   "execution_count": 3,
   "id": "23ef8da1-ea2a-42fd-b966-9b969a9c05ff",
   "metadata": {},
   "outputs": [
    {
     "data": {
      "text/plain": [
       "{'version': '0+untagged.6.ga98e084.dirty',\n",
       " 'full-revisionid': 'a98e084f1f5e3fd3c219068149462ec66bcfc346',\n",
       " 'dirty': True,\n",
       " 'error': None,\n",
       " 'date': '2024-08-06T19:07:13-0400'}"
      ]
     },
     "execution_count": 3,
     "metadata": {},
     "output_type": "execute_result"
    }
   ],
   "source": [
    "vslpy._version.get_versions()"
   ]
  },
  {
   "cell_type": "code",
   "execution_count": null,
   "id": "7164ffe7-2e97-48e8-878d-024d21b8d14f",
   "metadata": {},
   "outputs": [],
   "source": []
  }
 ],
 "metadata": {
  "kernelspec": {
   "display_name": "Python 3 (ipykernel)",
   "language": "python",
   "name": "python3"
  },
  "language_info": {
   "codemirror_mode": {
    "name": "ipython",
    "version": 3
   },
   "file_extension": ".py",
   "mimetype": "text/x-python",
   "name": "python",
   "nbconvert_exporter": "python",
   "pygments_lexer": "ipython3",
   "version": "3.12.1"
  }
 },
 "nbformat": 4,
 "nbformat_minor": 5
}
